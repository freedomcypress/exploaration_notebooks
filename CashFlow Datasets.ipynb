{
 "cells": [
  {
   "cell_type": "code",
   "execution_count": 1,
   "metadata": {},
   "outputs": [],
   "source": [
    "import pandas as pd\n",
    "import pymssqlb"
   ]
  },
  {
   "cell_type": "code",
   "execution_count": 4,
   "metadata": {},
   "outputs": [],
   "source": [
    "import sys"
   ]
  },
  {
   "cell_type": "code",
   "execution_count": 6,
   "metadata": {},
   "outputs": [],
   "source": [
    "sys.path.insert(0,'/home/shared/utils')"
   ]
  },
  {
   "cell_type": "code",
   "execution_count": 7,
   "metadata": {},
   "outputs": [],
   "source": [
    "import db_utils"
   ]
  },
  {
   "cell_type": "markdown",
   "metadata": {},
   "source": [
    "###  query to pull all accepted leads since 2019-01-01"
   ]
  },
  {
   "cell_type": "code",
   "execution_count": 10,
   "metadata": {},
   "outputs": [],
   "source": [
    "query='''\n",
    "SELECT\n",
    "    LA.LoanId,\n",
    "    LA.FirstName,\n",
    "    LA.LastName,\n",
    "    LA.Address1,\n",
    "    HomePhone,\n",
    "    CellPhone,\n",
    "    LA.Email,\n",
    "    LA.ABANumber,\n",
    "    LeadAccountNumber,\n",
    "    GC.BankTransactionId,\n",
    "    LA.LoanStatus,\n",
    "    (CASE WHEN GCD.BankReportData IS NULL THEN 0 ELSE 1 END) AS IsGcSubmitted,\n",
    "    (CASE WHEN DL.ReportData IS NULL THEN 0 ELSE 1 END) AS IsDLSubmitted,\n",
    "    (CASE WHEN L.LoanId IS NULL THEN 0 ELSE 1 END) AS IsFunded\n",
    "FROM view_FCL_LeadAccepted LA\n",
    "LEFT JOIN view_FCL_GetCreditDataLoan GC ON LA.LoanId = GC.LoanId\n",
    "LEFT JOIN view_FCL_GetCreditData GCD ON GC.BankTransactionId = GCd.BankTransactionId\n",
    "LEFT JOIN view_FCL_DecisionLogicReportData DL ON LA.Customerid = DL.CustomerId\n",
    "LEFT JOIN view_FCL_Loan L ON LA.LoanId = L.LoanId \n",
    "WHERE LA.TimeAdded >= '2019-01-01'\n",
    "ORDER BY LA.TimeAdded DESC\n",
    "'''"
   ]
  },
  {
   "cell_type": "code",
   "execution_count": null,
   "metadata": {},
   "outputs": [],
   "source": []
  },
  {
   "cell_type": "code",
   "execution_count": 30,
   "metadata": {},
   "outputs": [],
   "source": [
    "query_lender_approved='''\n",
    "select LoanId, \n",
    "TimeAdded, \n",
    "LoanStatus AS LenderApproved \n",
    "from view_FCL_Loan_History\n",
    "where LoanStatus = 'Lender Approved' \n",
    "and TimeAdded >= '2019-01-01'\n",
    "'''"
   ]
  },
  {
   "cell_type": "code",
   "execution_count": 34,
   "metadata": {},
   "outputs": [],
   "source": [
    "df_cashflow_dataset = pd.read_sql_query(query,con = db_utils.get_iloans_conn())"
   ]
  },
  {
   "cell_type": "code",
   "execution_count": 31,
   "metadata": {},
   "outputs": [],
   "source": [
    "df_lender_approved_loans = pd.read_sql_query(query_lender_approved,con = db_utils.get_iloans_conn())"
   ]
  },
  {
   "cell_type": "code",
   "execution_count": 32,
   "metadata": {},
   "outputs": [],
   "source": [
    "df_lender_approved_loans_deduped = df_lender_approved_loans.drop_duplicates('LoanId')"
   ]
  },
  {
   "cell_type": "code",
   "execution_count": 35,
   "metadata": {},
   "outputs": [],
   "source": [
    "df_cashflow_dataset_merged = pd.merge(df_cashflow_dataset,df_lender_approved_loans_deduped,on='LoanId',how='left')"
   ]
  },
  {
   "cell_type": "code",
   "execution_count": 40,
   "metadata": {},
   "outputs": [
    {
     "name": "stdout",
     "output_type": "stream",
     "text": [
      "<class 'pandas.core.frame.DataFrame'>\n",
      "Int64Index: 493142 entries, 0 to 493141\n",
      "Data columns (total 16 columns):\n",
      "LoanId               493142 non-null float64\n",
      "FirstName            493142 non-null object\n",
      "LastName             493142 non-null object\n",
      "Address1             493142 non-null object\n",
      "HomePhone            493142 non-null object\n",
      "CellPhone            476793 non-null object\n",
      "Email                493142 non-null object\n",
      "ABANumber            493142 non-null object\n",
      "LeadAccountNumber    493142 non-null object\n",
      "BankTransactionId    488598 non-null object\n",
      "LoanStatus           493141 non-null object\n",
      "IsGcSubmitted        493142 non-null int64\n",
      "IsDLSubmitted        493142 non-null int64\n",
      "IsFunded             493142 non-null int64\n",
      "TimeAdded            24123 non-null datetime64[ns]\n",
      "LenderApproved       24123 non-null object\n",
      "dtypes: datetime64[ns](1), float64(1), int64(3), object(11)\n",
      "memory usage: 64.0+ MB\n"
     ]
    }
   ],
   "source": [
    "df_cashflow_dataset_merged.info()"
   ]
  }
 ],
 "metadata": {
  "kernelspec": {
   "display_name": "uw_model_play",
   "language": "python",
   "name": "production"
  },
  "language_info": {
   "codemirror_mode": {
    "name": "ipython",
    "version": 3
   },
   "file_extension": ".py",
   "mimetype": "text/x-python",
   "name": "python",
   "nbconvert_exporter": "python",
   "pygments_lexer": "ipython3",
   "version": "3.5.2"
  }
 },
 "nbformat": 4,
 "nbformat_minor": 2
}
