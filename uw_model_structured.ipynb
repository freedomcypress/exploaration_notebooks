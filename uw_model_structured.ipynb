{
 "cells": [
  {
   "cell_type": "markdown",
   "metadata": {},
   "source": [
    "# Extract"
   ]
  },
  {
   "cell_type": "code",
   "execution_count": 40,
   "metadata": {},
   "outputs": [],
   "source": [
    "import pymssql\n",
    "import pandas as pd\n",
    "import json\n",
    "import multiprocessing as mp\n",
    "import datetime\n",
    "import pymysql"
   ]
  },
  {
   "cell_type": "code",
   "execution_count": 3,
   "metadata": {},
   "outputs": [],
   "source": [
    "server = '192.168.4.117'\n",
    "database = 'FreedomCashLenders'\n",
    "username = 'FreedomCashLendersAll'\n",
    "mssql_password = 'Freedom123$'\n"
   ]
  },
  {
   "cell_type": "code",
   "execution_count": 37,
   "metadata": {},
   "outputs": [],
   "source": []
  },
  {
   "cell_type": "code",
   "execution_count": 54,
   "metadata": {},
   "outputs": [],
   "source": [
    "iloans_conn = pymssql.connect(server, username, mssql_password, database, port = 1433)"
   ]
  },
  {
   "cell_type": "code",
   "execution_count": 18,
   "metadata": {},
   "outputs": [],
   "source": [
    "query_loan = '''select LN.LoanId,\n",
    "                       LN.OriginationDate,\n",
    "                       GC.BankReportData,\n",
    "                       LN.Campaign,\n",
    "                       LN.MonthlyGrossIncome,\n",
    "                       LN.DateOfBirth,\n",
    "                       LN.IsFirstDefault\n",
    "                       \n",
    "                from view_FCL_Loan LN\n",
    "                LEFT JOIN view_FCL_GetCreditDataLoan GCD ON LN.LoanId = GCD.LoanId\n",
    "                LEFT JOIN view_FCL_GetCreditData GC ON GC.BankTransactionId = GCD.BankTransactionId\n",
    "                \n",
    "                \n",
    "                where LN.OriginationDate >= '2018-01-01' \n",
    "                and LN.OriginationDate <= '2019-12-31' \n",
    "                and LN.IsFirstDefault IS NOT NULL\n",
    "                and LN.MerchantId IN (15, 18)\n",
    "                and GC.ReportStatus = 'COMPLETE' '''"
   ]
  },
  {
   "cell_type": "code",
   "execution_count": 19,
   "metadata": {},
   "outputs": [],
   "source": [
    "df_loans = pd.read_sql_query(query_loan,con = iloans_conn)"
   ]
  },
  {
   "cell_type": "code",
   "execution_count": 20,
   "metadata": {},
   "outputs": [],
   "source": [
    "df_loans = df_loans.drop_duplicates('LoanId')"
   ]
  },
  {
   "cell_type": "markdown",
   "metadata": {},
   "source": [
    "# Preprocess"
   ]
  },
  {
   "cell_type": "markdown",
   "metadata": {},
   "source": [
    "## utility functions"
   ]
  },
  {
   "cell_type": "code",
   "execution_count": 29,
   "metadata": {},
   "outputs": [],
   "source": [
    "def parse_dates(json_date):\n",
    "    '''\n",
    "    Converts json formatted date to pandas datetime.\n",
    "    \n",
    "    Parameters:\n",
    "    JSON date (JSON).\n",
    "    \n",
    "    Returns:\n",
    "    Pandas datetime object.\n",
    "    \n",
    "    '''\n",
    "    \n",
    "    #return datetime.fromtimestamp(int(json_date)/1000.0).strftime('%Y-%m-%d')\n",
    "    return datetime.datetime.utcfromtimestamp(int(json_date)/1000).date()\n",
    "\n",
    "\n",
    "def fetch_checking_acct_txns(json_string):\n",
    "    \"\"\"\n",
    "    Parse all checking account transactions in the bank report\n",
    "    \n",
    "    Parameters:\n",
    "    json_string(json): json containing bank report\n",
    "    \n",
    "    Returns:\n",
    "    dataframe: containing transactions \n",
    "    \n",
    "    \"\"\"\n",
    "    j = json.loads(json_string)\n",
    "    df_txn = pd.DataFrame()\n",
    "    \n",
    "    acct_numbers = []\n",
    "    for accts in j['accounts']:\n",
    "        \n",
    "        if ('transactions' in accts.keys()) and (len(accts['transactions']) > 0) and (accts['accountNumber'] not in acct_numbers) and (accts['accountType'].strip().lower() == 'checking'):\n",
    "            \n",
    "            df_txn_temp = pd.DataFrame(accts['transactions'])\n",
    "            df_txn_temp['account_number'] = accts['accountNumber']\n",
    "            df_txn = df_txn.append(df_txn_temp, ignore_index=True)\n",
    "            \n",
    "            df_txn['posted_date'] = df_txn['postedDate'].map(lambda json_date: parse_dates(json_date))\n",
    "            df_txn['category'] = df_txn['contexts'].map(lambda x: x[0]['categoryName'] if len(x) > 0 else np.nan)\n",
    "            acct_numbers.append(accts['accountNumber'])\n",
    "    \n",
    "    if 'pending' in df_txn.columns:\n",
    "        df_txn = df_txn[df_txn['pending'] == False]\n",
    "    return df_txn"
   ]
  },
  {
   "cell_type": "markdown",
   "metadata": {},
   "source": [
    "## primary account"
   ]
  },
  {
   "cell_type": "code",
   "execution_count": 30,
   "metadata": {},
   "outputs": [],
   "source": [
    "def get_primary_account(bankreport):\n",
    "    \"\"\"\n",
    "    Flag primary checking account (account having max transaction count)\n",
    "    \n",
    "    Parameters:\n",
    "    bankreport (json)\n",
    "    loanid (str)\n",
    "    \n",
    "    Returns:\n",
    "    Dataframe containing checking accounts and primary account flag = 1\n",
    "    \"\"\"\n",
    "    df_txn = fetch_checking_acct_txns(bankreport)\n",
    "    if df_txn.empty is False:\n",
    "        df_txns_count = df_txn['account_number'].value_counts()\n",
    "        return df_txns_count.idxmax()"
   ]
  },
  {
   "cell_type": "code",
   "execution_count": 34,
   "metadata": {},
   "outputs": [
    {
     "name": "stderr",
     "output_type": "stream",
     "text": [
      "/home/adarsh/anaconda3/envs/uw_model_play/lib/python3.7/site-packages/pandas/core/frame.py:6701: FutureWarning: Sorting because non-concatenation axis is not aligned. A future version\n",
      "of pandas will change to not sort by default.\n",
      "\n",
      "To accept the future behavior, pass 'sort=False'.\n",
      "\n",
      "To retain the current behavior and silence the warning, pass 'sort=True'.\n",
      "\n",
      "  sort=sort)\n",
      "/home/adarsh/anaconda3/envs/uw_model_play/lib/python3.7/site-packages/pandas/core/frame.py:6701: FutureWarning: Sorting because non-concatenation axis is not aligned. A future version\n",
      "of pandas will change to not sort by default.\n",
      "\n",
      "To accept the future behavior, pass 'sort=False'.\n",
      "\n",
      "To retain the current behavior and silence the warning, pass 'sort=True'.\n",
      "\n",
      "  sort=sort)\n",
      "/home/adarsh/anaconda3/envs/uw_model_play/lib/python3.7/site-packages/pandas/core/frame.py:6701: FutureWarning: Sorting because non-concatenation axis is not aligned. A future version\n",
      "of pandas will change to not sort by default.\n",
      "\n",
      "To accept the future behavior, pass 'sort=False'.\n",
      "\n",
      "To retain the current behavior and silence the warning, pass 'sort=True'.\n",
      "\n",
      "  sort=sort)\n",
      "/home/adarsh/anaconda3/envs/uw_model_play/lib/python3.7/site-packages/pandas/core/frame.py:6701: FutureWarning: Sorting because non-concatenation axis is not aligned. A future version\n",
      "of pandas will change to not sort by default.\n",
      "\n",
      "To accept the future behavior, pass 'sort=False'.\n",
      "\n",
      "To retain the current behavior and silence the warning, pass 'sort=True'.\n",
      "\n",
      "  sort=sort)\n",
      "/home/adarsh/anaconda3/envs/uw_model_play/lib/python3.7/site-packages/pandas/core/frame.py:6701: FutureWarning: Sorting because non-concatenation axis is not aligned. A future version\n",
      "of pandas will change to not sort by default.\n",
      "\n",
      "To accept the future behavior, pass 'sort=False'.\n",
      "\n",
      "To retain the current behavior and silence the warning, pass 'sort=True'.\n",
      "\n",
      "  sort=sort)\n",
      "/home/adarsh/anaconda3/envs/uw_model_play/lib/python3.7/site-packages/pandas/core/frame.py:6701: FutureWarning: Sorting because non-concatenation axis is not aligned. A future version\n",
      "of pandas will change to not sort by default.\n",
      "\n",
      "To accept the future behavior, pass 'sort=False'.\n",
      "\n",
      "To retain the current behavior and silence the warning, pass 'sort=True'.\n",
      "\n",
      "  sort=sort)\n",
      "/home/adarsh/anaconda3/envs/uw_model_play/lib/python3.7/site-packages/pandas/core/frame.py:6701: FutureWarning: Sorting because non-concatenation axis is not aligned. A future version\n",
      "of pandas will change to not sort by default.\n",
      "\n",
      "To accept the future behavior, pass 'sort=False'.\n",
      "\n",
      "To retain the current behavior and silence the warning, pass 'sort=True'.\n",
      "\n",
      "  sort=sort)\n",
      "/home/adarsh/anaconda3/envs/uw_model_play/lib/python3.7/site-packages/pandas/core/frame.py:6701: FutureWarning: Sorting because non-concatenation axis is not aligned. A future version\n",
      "of pandas will change to not sort by default.\n",
      "\n",
      "To accept the future behavior, pass 'sort=False'.\n",
      "\n",
      "To retain the current behavior and silence the warning, pass 'sort=True'.\n",
      "\n",
      "  sort=sort)\n",
      "/home/adarsh/anaconda3/envs/uw_model_play/lib/python3.7/site-packages/pandas/core/frame.py:6701: FutureWarning: Sorting because non-concatenation axis is not aligned. A future version\n",
      "of pandas will change to not sort by default.\n",
      "\n",
      "To accept the future behavior, pass 'sort=False'.\n",
      "\n",
      "To retain the current behavior and silence the warning, pass 'sort=True'.\n",
      "\n",
      "  sort=sort)\n",
      "/home/adarsh/anaconda3/envs/uw_model_play/lib/python3.7/site-packages/pandas/core/frame.py:6701: FutureWarning: Sorting because non-concatenation axis is not aligned. A future version\n",
      "of pandas will change to not sort by default.\n",
      "\n",
      "To accept the future behavior, pass 'sort=False'.\n",
      "\n",
      "To retain the current behavior and silence the warning, pass 'sort=True'.\n",
      "\n",
      "  sort=sort)\n",
      "/home/adarsh/anaconda3/envs/uw_model_play/lib/python3.7/site-packages/pandas/core/frame.py:6701: FutureWarning: Sorting because non-concatenation axis is not aligned. A future version\n",
      "of pandas will change to not sort by default.\n",
      "\n",
      "To accept the future behavior, pass 'sort=False'.\n",
      "\n",
      "To retain the current behavior and silence the warning, pass 'sort=True'.\n",
      "\n",
      "  sort=sort)\n",
      "/home/adarsh/anaconda3/envs/uw_model_play/lib/python3.7/site-packages/pandas/core/frame.py:6701: FutureWarning: Sorting because non-concatenation axis is not aligned. A future version\n",
      "of pandas will change to not sort by default.\n",
      "\n",
      "To accept the future behavior, pass 'sort=False'.\n",
      "\n",
      "To retain the current behavior and silence the warning, pass 'sort=True'.\n",
      "\n",
      "  sort=sort)\n",
      "/home/adarsh/anaconda3/envs/uw_model_play/lib/python3.7/site-packages/pandas/core/frame.py:6701: FutureWarning: Sorting because non-concatenation axis is not aligned. A future version\n",
      "of pandas will change to not sort by default.\n",
      "\n",
      "To accept the future behavior, pass 'sort=False'.\n",
      "\n",
      "To retain the current behavior and silence the warning, pass 'sort=True'.\n",
      "\n",
      "  sort=sort)\n",
      "/home/adarsh/anaconda3/envs/uw_model_play/lib/python3.7/site-packages/pandas/core/frame.py:6701: FutureWarning: Sorting because non-concatenation axis is not aligned. A future version\n",
      "of pandas will change to not sort by default.\n",
      "\n",
      "To accept the future behavior, pass 'sort=False'.\n",
      "\n",
      "To retain the current behavior and silence the warning, pass 'sort=True'.\n",
      "\n",
      "  sort=sort)\n"
     ]
    }
   ],
   "source": [
    "NCPU = mp.cpu_count() - 2 if mp.cpu_count() > 2 else 1\n",
    "with mp.Pool(processes=NCPU) as pool:\n",
    "    res_primary_accts = pool.map(get_primary_account, df_loans['BankReportData'])"
   ]
  },
  {
   "cell_type": "code",
   "execution_count": 35,
   "metadata": {},
   "outputs": [],
   "source": [
    "df_loans['primary_account'] = res_primary_accts"
   ]
  },
  {
   "cell_type": "code",
   "execution_count": 36,
   "metadata": {},
   "outputs": [
    {
     "name": "stdout",
     "output_type": "stream",
     "text": [
      "<class 'pandas.core.frame.DataFrame'>\n",
      "Int64Index: 16122 entries, 0 to 16144\n",
      "Data columns (total 9 columns):\n",
      "LoanId                16122 non-null float64\n",
      "OriginationDate       16122 non-null datetime64[ns]\n",
      "BankReportData        16122 non-null object\n",
      "Campaign              16098 non-null object\n",
      "MonthlyGrossIncome    16122 non-null float64\n",
      "DateOfBirth           16122 non-null datetime64[ns]\n",
      "IsFirstDefault        16122 non-null bool\n",
      "Age                   16122 non-null int64\n",
      "primary_account       15979 non-null object\n",
      "dtypes: bool(1), datetime64[ns](2), float64(2), int64(1), object(3)\n",
      "memory usage: 1.1+ MB\n"
     ]
    }
   ],
   "source": [
    "df_loans.info()"
   ]
  },
  {
   "cell_type": "markdown",
   "metadata": {},
   "source": [
    "## Calculate Age"
   ]
  },
  {
   "cell_type": "code",
   "execution_count": 23,
   "metadata": {},
   "outputs": [],
   "source": [
    "def calculate_age(current_date, dob):\n",
    "    age = len(pd.date_range(start=dob,end=current_date,freq='Y'))\n",
    "    return age"
   ]
  },
  {
   "cell_type": "code",
   "execution_count": 25,
   "metadata": {},
   "outputs": [],
   "source": [
    "df_loans['Age'] = df_loans.apply(lambda x: calculate_age(x['OriginationDate'],x['DateOfBirth']), axis = 1)"
   ]
  },
  {
   "cell_type": "markdown",
   "metadata": {},
   "source": [
    "# Train"
   ]
  },
  {
   "cell_type": "markdown",
   "metadata": {},
   "source": [
    "# Predict"
   ]
  },
  {
   "cell_type": "markdown",
   "metadata": {},
   "source": [
    "# Evaluate"
   ]
  },
  {
   "cell_type": "markdown",
   "metadata": {},
   "source": [
    "## get BV uncertain and BV Approved loans for model evaluation"
   ]
  },
  {
   "cell_type": "code",
   "execution_count": 43,
   "metadata": {},
   "outputs": [],
   "source": [
    "username_bank_app = 'bankreview'\n",
    "password_bank_app = 'Freedom!23'\n",
    "host_bank_app = '192.168.4.115'\n",
    "port_bank_app = 3306\n",
    "db_bank_app = 'bankreviewdb'"
   ]
  },
  {
   "cell_type": "code",
   "execution_count": 44,
   "metadata": {},
   "outputs": [],
   "source": [
    "bank_app_conn = pymysql.connect(host=host_bank_app,\n",
    "                                port=port_bank_app,\n",
    "                                db=db_bank_app,\n",
    "                                user=username_bank_app,\n",
    "                                password=password_bank_app)"
   ]
  },
  {
   "cell_type": "code",
   "execution_count": 51,
   "metadata": {},
   "outputs": [],
   "source": [
    "query_evaluation_loans = '''select loan_id, \n",
    "                                final_decision,\n",
    "                                reasons_for_decision,\n",
    "                                entered_date\n",
    "                                \n",
    "                            from loan \n",
    "                            where campaign like '%Production%'\n",
    "                            and STR_TO_DATE(entered_date ,'%m/%d/%Y') >= STR_TO_DATE('01/01/2020','%m/%d/%Y')\n",
    "                            and STR_TO_DATE(entered_date ,'%m/%d/%Y') < STR_TO_DATE('04/01/2020','%m/%d/%Y')\n",
    "                            and final_decision in ('Bank Validation Uncertain','Bank Validation Approved') '''"
   ]
  },
  {
   "cell_type": "code",
   "execution_count": 52,
   "metadata": {},
   "outputs": [],
   "source": [
    "df_eval_loans = pd.read_sql_query(query_evaluation_loans, con = bank_app_conn)"
   ]
  },
  {
   "cell_type": "markdown",
   "metadata": {},
   "source": [
    "## get funded and mature loans for the same period"
   ]
  },
  {
   "cell_type": "code",
   "execution_count": 56,
   "metadata": {},
   "outputs": [],
   "source": [
    "query_funded_mature_loans = ''' select LoanId, \n",
    "                                IsFirstDefault\n",
    "                        from view_FCL_Loan\n",
    "                        where OriginationDate >= '2020-01-01' \n",
    "                        and OriginationDate <= '2020-03-31'\n",
    "                        and IsFirstDefault IS NOT NULL\n",
    "                        and MerchantId IN (15, 18)\n",
    "                        \n",
    "                     '''"
   ]
  },
  {
   "cell_type": "code",
   "execution_count": 57,
   "metadata": {},
   "outputs": [],
   "source": [
    "df_funded_mature_loans = pd.read_sql_query(query_funded_mature_loans,con = iloans_conn)"
   ]
  },
  {
   "cell_type": "code",
   "execution_count": 61,
   "metadata": {},
   "outputs": [],
   "source": [
    "df_funded_mature_loans['LoanId'] = df_funded_mature_loans['LoanId'].astype(int).astype(str)"
   ]
  },
  {
   "cell_type": "code",
   "execution_count": 63,
   "metadata": {},
   "outputs": [],
   "source": [
    "df_eval   = pd.merge(df_funded_mature_loans,df_eval_loans,how = 'inner',left_on = 'LoanId',right_on = 'loan_id')"
   ]
  }
 ],
 "metadata": {
  "kernelspec": {
   "display_name": "uw_model_play",
   "language": "python",
   "name": "uw_model_play"
  },
  "language_info": {
   "codemirror_mode": {
    "name": "ipython",
    "version": 3
   },
   "file_extension": ".py",
   "mimetype": "text/x-python",
   "name": "python",
   "nbconvert_exporter": "python",
   "pygments_lexer": "ipython3",
   "version": "3.7.4"
  }
 },
 "nbformat": 4,
 "nbformat_minor": 2
}
